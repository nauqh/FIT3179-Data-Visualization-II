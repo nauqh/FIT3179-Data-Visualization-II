{
 "cells": [
  {
   "cell_type": "code",
   "execution_count": 4,
   "id": "242b3647-14dc-4bc3-93d0-d03e2ed210a9",
   "metadata": {},
   "outputs": [],
   "source": [
    "import pandas as pd\n",
    "from ast import literal_eval"
   ]
  },
  {
   "cell_type": "code",
   "execution_count": 7,
   "id": "251a7faf-d4a9-43b3-a377-977cf483d391",
   "metadata": {},
   "outputs": [],
   "source": [
    "cast = pd.read_csv(\"data/credits.csv\")"
   ]
  },
  {
   "cell_type": "code",
   "execution_count": 8,
   "id": "22c2887f-b9c8-4496-ac96-ca978433b821",
   "metadata": {},
   "outputs": [],
   "source": [
    "def calculate_genre_frequency(dataframe, column_name):\n",
    "    # Convert genre strings to lists\n",
    "    dataframe[column_name] = dataframe[column_name].apply(literal_eval)\n",
    "    \n",
    "    all_genres = [genre for genres in dataframe[column_name] for genre in genres]\n",
    "    genre_counts = pd.Series(all_genres).value_counts().reset_index()\n",
    "    genre_counts.columns = ['genres', 'count']\n",
    "    \n",
    "    return genre_counts"
   ]
  },
  {
   "cell_type": "code",
   "execution_count": 11,
   "id": "4f567ceb-4fd1-4d1b-82dc-eb82fe523ebb",
   "metadata": {},
   "outputs": [
    {
     "data": {
      "text/plain": [
       "role\n",
       "ACTOR       73251\n",
       "DIRECTOR     4550\n",
       "Name: count, dtype: int64"
      ]
     },
     "execution_count": 11,
     "metadata": {},
     "output_type": "execute_result"
    }
   ],
   "source": [
    "cast['role'].value_counts()"
   ]
  },
  {
   "cell_type": "code",
   "execution_count": null,
   "id": "5e4c7af4-366e-4fd6-ad1d-1e1aa334cbc7",
   "metadata": {},
   "outputs": [],
   "source": []
  }
 ],
 "metadata": {
  "kernelspec": {
   "display_name": "Python 3 (ipykernel)",
   "language": "python",
   "name": "python3"
  },
  "language_info": {
   "codemirror_mode": {
    "name": "ipython",
    "version": 3
   },
   "file_extension": ".py",
   "mimetype": "text/x-python",
   "name": "python",
   "nbconvert_exporter": "python",
   "pygments_lexer": "ipython3",
   "version": "3.11.4"
  }
 },
 "nbformat": 4,
 "nbformat_minor": 5
}
